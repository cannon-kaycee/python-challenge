{
 "cells": [
  {
   "cell_type": "code",
   "execution_count": 12,
   "id": "452e3819",
   "metadata": {},
   "outputs": [],
   "source": [
    "import os\n",
    "import csv"
   ]
  },
  {
   "cell_type": "code",
   "execution_count": 13,
   "id": "be3bd6c1",
   "metadata": {},
   "outputs": [],
   "source": [
    "csvpath=os.path.join(\"Resources\",\"election_data.csv\")"
   ]
  },
  {
   "cell_type": "code",
   "execution_count": 14,
   "id": "39c16132",
   "metadata": {},
   "outputs": [
    {
     "name": "stdout",
     "output_type": "stream",
     "text": [
      "['Voter ID', 'County', 'Candidate']\n"
     ]
    }
   ],
   "source": [
    "with open (csvpath) as csvfile:\n",
    "    csvreader=csv.reader(csvfile,delimiter=\",\")\n",
    "    csv_header=next(csvreader)\n",
    "    print(csv_header)"
   ]
  },
  {
   "cell_type": "code",
   "execution_count": 27,
   "id": "a8db23c0",
   "metadata": {},
   "outputs": [
    {
     "name": "stdout",
     "output_type": "stream",
     "text": [
      "The total number of votes cast is 3521001\n"
     ]
    }
   ],
   "source": [
    "with open (csvpath) as csvfile:\n",
    "    csvreader=csv.reader(csvfile,delimiter=\",\")\n",
    "    csv_header=next(csvreader)\n",
    "    \n",
    "    total_votes=0\n",
    "    for row in csvreader:\n",
    "        total_votes=total_votes+1\n",
    "    print(f\"The total number of votes cast is {total_votes}\")"
   ]
  },
  {
   "cell_type": "code",
   "execution_count": 50,
   "id": "1ea51f64",
   "metadata": {},
   "outputs": [
    {
     "name": "stdout",
     "output_type": "stream",
     "text": [
      "['Khan', 'Correy', 'Li', \"O'Tooley\"]\n"
     ]
    }
   ],
   "source": [
    "#A complete list of candidates who received votes\n",
    "with open (csvpath) as csvfile:\n",
    "    csvreader=csv.reader(csvfile,delimiter=\",\")\n",
    "    csv_header=next(csvreader)\n",
    "    \n",
    "    \n",
    "    complete_candidates=[]\n",
    "    for row in csvreader:\n",
    "        if row[2] not in complete_candidates:\n",
    "            complete_candidates.append(row[2])\n",
    "    print(complete_candidates)\n",
    "            \n",
    "            \n",
    "            \n",
    "        "
   ]
  },
  {
   "cell_type": "code",
   "execution_count": 42,
   "id": "2c3e49cd",
   "metadata": {},
   "outputs": [
    {
     "name": "stdout",
     "output_type": "stream",
     "text": [
      "['Khan', 'Correy', 'Li', \"O'Tooley\"]\n"
     ]
    }
   ],
   "source": [
    "print(complete_candidates)"
   ]
  },
  {
   "cell_type": "code",
   "execution_count": 75,
   "id": "13ff91a3",
   "metadata": {},
   "outputs": [
    {
     "name": "stdout",
     "output_type": "stream",
     "text": [
      "Khan: 63.0% (2218231)\n",
      "Correy: 20.0% (704200)\n",
      "Li: 14.0% (492940)\n",
      "O'Tooley: 3.0% (105630)\n",
      "Winner: Khan\n"
     ]
    }
   ],
   "source": [
    "#The percentage of votes each candidate won\n",
    "#The total number of votes each candidate won\n",
    "#The winner of the election based on popular vote.\n",
    "\n",
    "with open (csvpath) as csvfile:\n",
    "    csvreader=csv.reader(csvfile,delimiter=\",\")\n",
    "    csv_header=next(csvreader)\n",
    "    \n",
    "    \n",
    "    \n",
    "\n",
    "    votes=[]\n",
    "    for item in complete_candidates:\n",
    "        \n",
    "        votes.append(0)\n",
    "    \n",
    "    for row in csvreader:\n",
    "        i=0\n",
    "        for item in complete_candidates:\n",
    "           \n",
    "            if row[2] == item:\n",
    "                votes[i]=votes[i]+1\n",
    "            i=i+1\n",
    "    \n",
    "    \n",
    "    percentage=[]\n",
    "    i=0\n",
    "    for item in votes:\n",
    "        percentage.append(round((votes[i]/total_votes)*100,2))\n",
    "        print(f\"{complete_candidates[i]}: {percentage[i]}% ({votes[i]})\")\n",
    "        if votes[i]==max(votes):\n",
    "            winner=i\n",
    "        i=i+1 \n",
    "    print(\"Winner: \"+complete_candidates[winner])\n",
    "\n"
   ]
  },
  {
   "cell_type": "code",
   "execution_count": 76,
   "id": "095b1379",
   "metadata": {},
   "outputs": [],
   "source": [
    "output_path = os.path.join(\"main.csv\")\n",
    "\n"
   ]
  },
  {
   "cell_type": "code",
   "execution_count": 77,
   "id": "73c06509",
   "metadata": {},
   "outputs": [],
   "source": [
    "with open(output_path, 'w', newline='') as csvfile:\n",
    "\n",
    "    # Initialize csv.writer\n",
    "    csvwriter = csv.writer(csvfile)\n",
    "\n",
    "    # Write the first row (column headers)\n",
    "    csvwriter.writerow(\"The total number of votes cast is 3521001\")\n",
    "    csvwriter.writerow(\"Khan: 63.0% (2218231)\")\n",
    "    csvwriter.writerow(\"Correy: 20.0% (704200)\")\n",
    "    csvwriter.writerow(\"Li: 14.0% (492940)\")\n",
    "    csvwriter.writerow(\"O'Tooley: 3.0% (105630)\")\n",
    "    csvwriter.writerow(\"Winner: Khan\")\n",
    "\n",
    "\n",
    "\n"
   ]
  },
  {
   "cell_type": "code",
   "execution_count": null,
   "id": "5c921820",
   "metadata": {},
   "outputs": [],
   "source": []
  }
 ],
 "metadata": {
  "kernelspec": {
   "display_name": "Python 3 (ipykernel)",
   "language": "python",
   "name": "python3"
  },
  "language_info": {
   "codemirror_mode": {
    "name": "ipython",
    "version": 3
   },
   "file_extension": ".py",
   "mimetype": "text/x-python",
   "name": "python",
   "nbconvert_exporter": "python",
   "pygments_lexer": "ipython3",
   "version": "3.9.7"
  }
 },
 "nbformat": 4,
 "nbformat_minor": 5
}
